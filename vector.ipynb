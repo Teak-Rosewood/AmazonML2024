{
 "cells": [
  {
   "cell_type": "code",
   "execution_count": 2,
   "metadata": {},
   "outputs": [],
   "source": [
    "import pandas as pd\n",
    "import numpy as np\n",
    "import os\n",
    "\n",
    "from collections import Counter\n",
    "\n",
    "import chromadb\n",
    "from chromadb.utils.embedding_functions import OpenCLIPEmbeddingFunction\n",
    "from chromadb.utils.data_loaders import ImageLoader"
   ]
  },
  {
   "cell_type": "code",
   "execution_count": 29,
   "metadata": {},
   "outputs": [
    {
     "name": "stdout",
     "output_type": "stream",
     "text": [
      "Data preprocessing complete, dataset ready to add to vectorDB\n"
     ]
    },
    {
     "name": "stderr",
     "output_type": "stream",
     "text": [
      "/tmp/ipykernel_422593/2178744517.py:23: DeprecationWarning: DataFrameGroupBy.apply operated on the grouping columns. This behavior is deprecated, and in a future version of pandas the grouping columns will be excluded from the operation. Either pass `include_groups=False` to exclude the groupings or explicitly select the grouping columns after groupby to silence this warning.\n",
      "  sampled_data_train = data_train.groupby('unit').apply(lambda x: x.sample(min(len(x), 100))).reset_index(drop=True)\n"
     ]
    }
   ],
   "source": [
    "# data_train = pd.read_csv(\"datasets/train.csv\")\n",
    "\n",
    "# Filter to only include item_weight entity\n",
    "\n",
    "# Extract numeric value and unit from entity_value\n",
    "# def split_value(value):\n",
    "#     value = value.strip()\n",
    "#     parts = value.strip().split(' ')\n",
    "#     if len(parts) == 2:\n",
    "#         try: \n",
    "#             float(parts[0])\n",
    "#         except:\n",
    "#             return None, None\n",
    "#         return float(parts[0]), parts[1]\n",
    "#     return None, None\n",
    "\n",
    "# data_train[['numeric_value', 'unit']] = data_train['entity_value'].apply(split_value).apply(pd.Series)\n",
    "\n",
    "\n",
    "# # Drop rows with missing values\n",
    "# data_train.dropna(inplace=True)\n",
    "\n",
    "# sampled_data_train = data_train.groupby('unit').apply(lambda x: x.sample(min(len(x), 100))).reset_index(drop=True)\n",
    "# # Save processed data to a new CSV file\n",
    "# # sampled_data_train.to_csv('vector.csv', index=True)\n",
    "sampled_data_train = pd.read_csv('vector.csv')\n",
    "\n",
    "# print(\"Data preprocessing complete, dataset ready to add to vectorDB\")"
   ]
  },
  {
   "cell_type": "code",
   "execution_count": 30,
   "metadata": {},
   "outputs": [
    {
     "name": "stdout",
     "output_type": "stream",
     "text": [
      "Data preprocessing complete, dataset ready to add to vectorDB\n"
     ]
    },
    {
     "name": "stderr",
     "output_type": "stream",
     "text": [
      "/tmp/ipykernel_422593/2735091366.py:23: DeprecationWarning: DataFrameGroupBy.apply operated on the grouping columns. This behavior is deprecated, and in a future version of pandas the grouping columns will be excluded from the operation. Either pass `include_groups=False` to exclude the groupings or explicitly select the grouping columns after groupby to silence this warning.\n",
      "  sampled_data_test = data_test.groupby('entity_name').apply(lambda x: x.sample(min(len(x), 1000))).reset_index(drop=True)\n"
     ]
    }
   ],
   "source": [
    "# data_test = pd.read_csv(\"datasets/train.csv\")\n",
    "\n",
    "# # Filter to only include item_weight entity\n",
    "\n",
    "# # Extract numeric value and unit from entity_value\n",
    "# def split_value(value):\n",
    "#     value = value.strip()\n",
    "#     parts = value.strip().split(' ')\n",
    "#     if len(parts) == 2:\n",
    "#         try: \n",
    "#             float(parts[0])\n",
    "#         except:\n",
    "#             return None, None\n",
    "#         return float(parts[0]), parts[1]\n",
    "#     return None, None\n",
    "\n",
    "# data_test[['numeric_value', 'unit']] = data_test['entity_value'].apply(split_value).apply(pd.Series)\n",
    "\n",
    "\n",
    "# # Drop rows with missing values\n",
    "# data_test.dropna(inplace=True)\n",
    "\n",
    "# sampled_data_test = data_test.groupby('entity_name').apply(lambda x: x.sample(min(len(x), 1000))).reset_index(drop=True)\n",
    "# # Save processed data to a new CSV file\n",
    "# # sampled_data_test.to_csv('test.csv', index=True)\n",
    "\n",
    "\n",
    "# print(\"Data preprocessing complete, dataset ready to add to vectorDB\")"
   ]
  },
  {
   "cell_type": "code",
   "execution_count": 33,
   "metadata": {},
   "outputs": [
    {
     "name": "stdout",
     "output_type": "stream",
     "text": [
      "2343 8000\n"
     ]
    }
   ],
   "source": [
    "print(len(sampled_data_train), len(sampled_data_test))"
   ]
  },
  {
   "cell_type": "code",
   "execution_count": 34,
   "metadata": {},
   "outputs": [
    {
     "name": "stderr",
     "output_type": "stream",
     "text": [
      "100%|██████████| 8000/8000 [05:40<00:00, 23.51it/s]\n",
      "100%|██████████| 2343/2343 [01:55<00:00, 20.36it/s]\n"
     ]
    }
   ],
   "source": [
    "from src.training.height.utils_height import download_images\n",
    "download_images(sampled_data_test['image_link'].tolist(), sampled_data_test.index.tolist(), \"datasets/test_images\")\n",
    "download_images(sampled_data_train['image_link'].tolist(), sampled_data_train.index.tolist(), \"datasets/vector_images\")"
   ]
  },
  {
   "cell_type": "code",
   "execution_count": 12,
   "metadata": {},
   "outputs": [
    {
     "name": "stderr",
     "output_type": "stream",
     "text": [
      "/home/blank/miniconda3/envs/tf/lib/python3.10/site-packages/tqdm/auto.py:21: TqdmWarning: IProgress not found. Please update jupyter and ipywidgets. See https://ipywidgets.readthedocs.io/en/stable/user_install.html\n",
      "  from .autonotebook import tqdm as notebook_tqdm\n"
     ]
    }
   ],
   "source": [
    "client = chromadb.Client()\n",
    "embedding_function = OpenCLIPEmbeddingFunction()\n",
    "data_loader = ImageLoader()"
   ]
  },
  {
   "cell_type": "code",
   "execution_count": 35,
   "metadata": {},
   "outputs": [],
   "source": [
    "collection = client.get_or_create_collection(\n",
    "    name=\"products\",\n",
    "    embedding_function=embedding_function,\n",
    "    data_loader=data_loader\n",
    ")"
   ]
  },
  {
   "cell_type": "code",
   "execution_count": 36,
   "metadata": {},
   "outputs": [],
   "source": [
    "vector_data = []\n",
    "for idx, row in sampled_data_train.iterrows():\n",
    "    image_location = os.path.join(\"datasets/vector_images\", f\"{idx}.jpg\")\n",
    "    metadata = {\n",
    "        \"unit\": row[\"unit\"],\n",
    "        \"entity_name\": row[\"entity_name\"],\n",
    "        \"numeric_value\": row[\"numeric_value\"]\n",
    "    }\n",
    "    vector_data.append({\n",
    "        \"image_location\": image_location,\n",
    "        \"metadata\": metadata\n",
    "    })"
   ]
  },
  {
   "cell_type": "code",
   "execution_count": 37,
   "metadata": {},
   "outputs": [
    {
     "data": {
      "text/plain": [
       "{'image_location': 'datasets/vector_images/1.jpg',\n",
       " 'metadata': {'unit': 'candela',\n",
       "  'entity_name': 'item_weight',\n",
       "  'numeric_value': 1.0}}"
      ]
     },
     "execution_count": 37,
     "metadata": {},
     "output_type": "execute_result"
    }
   ],
   "source": [
    "vector_data[1]"
   ]
  },
  {
   "cell_type": "code",
   "execution_count": 38,
   "metadata": {},
   "outputs": [
    {
     "name": "stdout",
     "output_type": "stream",
     "text": [
      "At 100\n",
      "At 200\n",
      "At 300\n",
      "At 400\n",
      "At 500\n",
      "At 600\n",
      "At 700\n",
      "At 800\n",
      "At 900\n",
      "At 1000\n",
      "At 1100\n",
      "At 1200\n",
      "At 1300\n",
      "At 1400\n",
      "At 1500\n",
      "At 1600\n",
      "At 1700\n",
      "At 1800\n",
      "At 1900\n",
      "At 2000\n",
      "At 2100\n",
      "At 2200\n",
      "At 2300\n"
     ]
    }
   ],
   "source": [
    "for idx, val in enumerate(vector_data):\n",
    "    if idx % 100 == 0 and idx != 0:\n",
    "        print(\"At\", idx)\n",
    "    collection.add(\n",
    "        ids = [str(idx)],\n",
    "        uris=[val['image_location']],\n",
    "        metadatas=[val['metadata']]\n",
    "    )"
   ]
  },
  {
   "cell_type": "code",
   "execution_count": 51,
   "metadata": {},
   "outputs": [],
   "source": [
    "def query_and_find_most_frequent(img_path, entity_name):\n",
    "    # query_text = remove_numbers(query_text)\n",
    "    results = collection.query(query_uris=[img_path],\n",
    "                               where={\"entity_name\": entity_name},\n",
    "                               n_results=13)\n",
    "    # print(results) \n",
    "    string_values = [result['unit'] for result in results['metadatas'][0]]\n",
    "    \n",
    "    string_counts = Counter(string_values)\n",
    "    # print(string_values)\n",
    "    # print(string_counts.most_common(1)) \n",
    "    most_frequent_string = string_counts.most_common(1)[0][0]\n",
    "    \n",
    "    return most_frequent_string"
   ]
  },
  {
   "cell_type": "code",
   "execution_count": 24,
   "metadata": {},
   "outputs": [],
   "source": [
    "query_data = pd.read_csv(\"test.csv\")\n",
    "query_data_id = query_data[\"id\"]\n",
    "query_data_unit = query_data[\"unit\"]\n",
    "query_data_entity = query_data[\"entity_name\"]"
   ]
  },
  {
   "cell_type": "code",
   "execution_count": 54,
   "metadata": {},
   "outputs": [
    {
     "name": "stdout",
     "output_type": "stream",
     "text": [
      "At 2000 Accuracy: 0.0\n",
      "At 2500 Accuracy: 0.18562874251497005\n",
      "At 3000 Accuracy: 0.1918081918081918\n",
      "At 3500 Accuracy: 0.18654230512991338\n",
      "At 4000 Accuracy: 0.1809095452273863\n",
      "At 4500 Accuracy: 0.17712914834066373\n",
      "At 5000 Accuracy: 0.17960679773408864\n",
      "At 5500 Accuracy: 0.2967723507569266\n",
      "At 6000 Accuracy: 0.38465383654086477\n",
      "At 6500 Accuracy: 0.4267940457676072\n",
      "0.286\n"
     ]
    }
   ],
   "source": [
    "def process_item(id, label, entity_name, idx):\n",
    "    path = \"datasets/test_images\" + str(id) + \".jpg\"\n",
    "    res = query_and_find_most_frequent(path, entity_name)\n",
    "    return idx, res == label\n",
    "\n",
    "# Initialize variables\n",
    "total_count = len(query_data_id)\n",
    "count = 0\n",
    "wrong_values = []\n",
    "len_item = 0\n",
    "# Process each item in a single thread\n",
    "for idx, (label, id, entity) in enumerate(zip(query_data_unit, query_data_id, query_data_entity)):\n",
    "    if entity == \"height\" or  entity == \"depth\" or entity == \"width\":\n",
    "        len_item += 1\n",
    "        continue\n",
    "    else:\n",
    "        path = \"datasets/test_images/\" + str(id) + \".jpg\"\n",
    "        res = query_and_find_most_frequent(path, entity)\n",
    "        if idx % 500 == 0 and idx != 0:\n",
    "            print(\"At\", idx, \"Accuracy:\", str(count / ((idx+1) - len_item)))\n",
    "        if res == label:\n",
    "            count += 1\n",
    "        else: \n",
    "            wrong_values.append((id, label, res))\n",
    "\n",
    "# Print the final accuracy\n",
    "print(count / total_count)"
   ]
  },
  {
   "cell_type": "code",
   "execution_count": 53,
   "metadata": {},
   "outputs": [
    {
     "name": "stdout",
     "output_type": "stream",
     "text": [
      "[(2000, 'millilitre', 'gallon'), (2001, 'millilitre', 'cup'), (2002, 'litre', 'millilitre'), (2003, 'millilitre', 'gallon'), (2004, 'cup', 'pint'), (2005, 'millilitre', 'pint'), (2008, 'litre', 'millilitre'), (2009, 'ounce', 'pint'), (2010, 'millilitre', 'quart'), (2011, 'millilitre', 'cup'), (2012, 'millilitre', 'pint'), (2013, 'millilitre', 'quart'), (2014, 'litre', 'decilitre'), (2015, 'millilitre', 'pint'), (2017, 'millilitre', 'gallon'), (2018, 'ounce', 'cup'), (2019, 'millilitre', 'quart'), (2020, 'millilitre', 'litre'), (2021, 'millilitre', 'quart'), (2022, 'millilitre', 'quart'), (2023, 'millilitre', 'litre'), (2025, 'millilitre', 'gallon'), (2026, 'millilitre', 'quart'), (2027, 'millilitre', 'quart'), (2028, 'millilitre', 'cup'), (2029, 'cup', 'gallon'), (2031, 'cup', 'millilitre'), (2033, 'decilitre', 'pint'), (2035, 'litre', 'millilitre'), (2036, 'millilitre', 'centilitre'), (2037, 'millilitre', 'gallon'), (2038, 'millilitre', 'litre'), (2040, 'millilitre', 'gallon'), (2041, 'millilitre', 'cup'), (2042, 'millilitre', 'quart'), (2044, 'litre', 'decilitre'), (2045, 'decilitre', 'litre'), (2047, 'millilitre', 'litre'), (2048, 'millilitre', 'gallon'), (2050, 'millilitre', 'quart'), (2051, 'millilitre', 'cup'), (2052, 'millilitre', 'gallon'), (2053, 'millilitre', 'pint'), (2054, 'millilitre', 'centilitre'), (2055, 'millilitre', 'pint'), (2056, 'gallon', 'cup'), (2057, 'millilitre', 'gallon'), (2060, 'litre', 'quart'), (2061, 'millilitre', 'centilitre'), (2062, 'litre', 'quart'), (2063, 'litre', 'quart'), (2064, 'ounce', 'decilitre'), (2065, 'ounce', 'gallon'), (2066, 'millilitre', 'decilitre'), (2067, 'millilitre', 'pint'), (2068, 'millilitre', 'litre'), (2069, 'litre', 'gallon'), (2070, 'millilitre', 'quart'), (2071, 'ounce', 'quart'), (2072, 'millilitre', 'gallon'), (2074, 'litre', 'cup'), (2075, 'millilitre', 'litre'), (2076, 'gallon', 'quart'), (2078, 'litre', 'cup'), (2079, 'millilitre', 'pint'), (2081, 'millilitre', 'litre'), (2082, 'millilitre', 'decilitre'), (2083, 'millilitre', 'gallon'), (2084, 'litre', 'pint'), (2085, 'millilitre', 'litre'), (2086, 'millilitre', 'gallon'), (2087, 'millilitre', 'litre'), (2089, 'millilitre', 'quart'), (2090, 'millilitre', 'cup'), (2092, 'millilitre', 'litre'), (2093, 'millilitre', 'centilitre'), (2094, 'millilitre', 'litre'), (2098, 'millilitre', 'quart'), (2099, 'litre', 'millilitre'), (2100, 'millilitre', 'cup'), (2101, 'pint', 'gallon'), (2102, 'litre', 'cup'), (2103, 'quart', 'millilitre'), (2104, 'litre', 'decilitre'), (2105, 'ounce', 'gallon'), (2107, 'ounce', 'cup'), (2108, 'millilitre', 'quart'), (2109, 'litre', 'quart'), (2110, 'decilitre', 'gallon'), (2111, 'millilitre', 'centilitre'), (2112, 'ounce', 'decilitre'), (2114, 'millilitre', 'litre'), (2115, 'ounce', 'millilitre'), (2116, 'millilitre', 'litre'), (2119, 'millilitre', 'litre'), (2120, 'litre', 'gallon'), (2121, 'pint', 'litre'), (2122, 'millilitre', 'cup'), (2123, 'millilitre', 'pint'), (2124, 'litre', 'pint'), (2125, 'millilitre', 'decilitre'), (2126, 'millilitre', 'litre'), (2129, 'millilitre', 'litre'), (2130, 'millilitre', 'cup'), (2132, 'millilitre', 'pint'), (2133, 'millilitre', 'quart'), (2134, 'litre', 'millilitre'), (2137, 'litre', 'quart'), (2138, 'millilitre', 'decilitre'), (2139, 'litre', 'quart'), (2140, 'millilitre', 'litre'), (2141, 'pint', 'decilitre'), (2142, 'millilitre', 'gallon'), (2143, 'pint', 'millilitre'), (2144, 'millilitre', 'cup'), (2146, 'millilitre', 'cup'), (2147, 'ounce', 'quart'), (2148, 'millilitre', 'litre'), (2149, 'millilitre', 'litre'), (2150, 'millilitre', 'quart'), (2151, 'millilitre', 'litre'), (2152, 'cup', 'millilitre'), (2153, 'ounce', 'cup'), (2157, 'millilitre', 'quart'), (2158, 'millilitre', 'quart'), (2159, 'millilitre', 'gallon'), (2160, 'millilitre', 'pint'), (2162, 'millilitre', 'decilitre'), (2163, 'millilitre', 'quart'), (2164, 'quart', 'pint'), (2165, 'millilitre', 'pint'), (2166, 'millilitre', 'gallon'), (2167, 'millilitre', 'quart'), (2169, 'millilitre', 'litre'), (2170, 'millilitre', 'pint'), (2171, 'litre', 'pint'), (2172, 'ounce', 'litre'), (2173, 'millilitre', 'litre'), (2175, 'millilitre', 'gallon'), (2176, 'litre', 'quart'), (2177, 'millilitre', 'litre'), (2178, 'litre', 'millilitre'), (2179, 'millilitre', 'litre'), (2180, 'ounce', 'litre'), (2181, 'millilitre', 'pint'), (2182, 'ounce', 'millilitre'), (2183, 'millilitre', 'gallon'), (2184, 'millilitre', 'pint'), (2185, 'gallon', 'quart'), (2186, 'millilitre', 'quart'), (2188, 'millilitre', 'pint'), (2189, 'millilitre', 'gallon'), (2190, 'millilitre', 'quart'), (2191, 'millilitre', 'pint'), (2192, 'millilitre', 'gallon'), (2193, 'ounce', 'pint'), (2194, 'gallon', 'decilitre'), (2195, 'millilitre', 'quart'), (2196, 'litre', 'centilitre'), (2197, 'cup', 'millilitre'), (2198, 'gallon', 'pint'), (2199, 'millilitre', 'quart'), (2200, 'millilitre', 'pint'), (2201, 'litre', 'gallon'), (2202, 'millilitre', 'quart'), (2204, 'millilitre', 'litre'), (2205, 'ounce', 'millilitre'), (2206, 'pint', 'quart'), (2209, 'millilitre', 'pint'), (2210, 'litre', 'quart'), (2211, 'litre', 'gallon'), (2212, 'millilitre', 'gallon'), (2214, 'quart', 'cup'), (2215, 'millilitre', 'quart'), (2216, 'millilitre', 'litre'), (2217, 'millilitre', 'centilitre'), (2218, 'millilitre', 'gallon'), (2219, 'millilitre', 'decilitre'), (2222, 'millilitre', 'litre'), (2224, 'litre', 'cup'), (2225, 'millilitre', 'gallon'), (2226, 'millilitre', 'decilitre'), (2228, 'litre', 'cup'), (2229, 'millilitre', 'litre'), (2230, 'millilitre', 'litre'), (2231, 'litre', 'quart'), (2232, 'litre', 'decilitre'), (2233, 'millilitre', 'quart'), (2234, 'litre', 'gallon'), (2235, 'millilitre', 'litre'), (2236, 'millilitre', 'pint'), (2237, 'ounce', 'millilitre'), (2241, 'millilitre', 'quart'), (2242, 'litre', 'centilitre'), (2245, 'millilitre', 'quart'), (2246, 'millilitre', 'litre'), (2247, 'millilitre', 'centilitre'), (2248, 'millilitre', 'quart'), (2250, 'gallon', 'millilitre'), (2252, 'litre', 'decilitre'), (2253, 'millilitre', 'quart'), (2254, 'millilitre', 'litre'), (2256, 'litre', 'millilitre'), (2257, 'millilitre', 'gallon'), (2258, 'millilitre', 'litre'), (2259, 'litre', 'gallon'), (2260, 'millilitre', 'gallon'), (2261, 'decilitre', 'gallon'), (2262, 'pint', 'quart'), (2263, 'millilitre', 'litre'), (2264, 'quart', 'pint'), (2265, 'gallon', 'pint'), (2266, 'ounce', 'millilitre'), (2267, 'cup', 'pint'), (2269, 'millilitre', 'litre'), (2270, 'millilitre', 'quart'), (2271, 'millilitre', 'litre'), (2272, 'millilitre', 'decilitre'), (2273, 'millilitre', 'quart'), (2274, 'millilitre', 'gallon'), (2275, 'millilitre', 'gallon'), (2276, 'millilitre', 'cup'), (2277, 'ounce', 'decilitre'), (2278, 'decilitre', 'pint'), (2279, 'cup', 'millilitre'), (2280, 'litre', 'cup'), (2281, 'quart', 'cup'), (2282, 'litre', 'centilitre'), (2283, 'litre', 'quart'), (2284, 'litre', 'pint'), (2285, 'decilitre', 'litre'), (2287, 'millilitre', 'litre'), (2288, 'millilitre', 'gallon'), (2289, 'millilitre', 'quart'), (2290, 'decilitre', 'pint'), (2292, 'millilitre', 'centilitre'), (2294, 'litre', 'millilitre'), (2295, 'quart', 'pint'), (2296, 'millilitre', 'gallon'), (2297, 'litre', 'millilitre'), (2298, 'millilitre', 'pint'), (2299, 'millilitre', 'gallon'), (2300, 'millilitre', 'gallon'), (2301, 'millilitre', 'centilitre'), (2302, 'cup', 'millilitre'), (2303, 'litre', 'gallon'), (2304, 'millilitre', 'litre'), (2305, 'millilitre', 'litre'), (2306, 'ounce', 'millilitre'), (2308, 'litre', 'millilitre'), (2309, 'millilitre', 'litre'), (2310, 'millilitre', 'gallon'), (2311, 'millilitre', 'decilitre'), (2312, 'millilitre', 'quart'), (2313, 'millilitre', 'cup'), (2314, 'millilitre', 'decilitre'), (2315, 'litre', 'gallon'), (2316, 'decilitre', 'millilitre'), (2317, 'millilitre', 'gallon'), (2318, 'litre', 'millilitre'), (2319, 'millilitre', 'quart'), (2320, 'millilitre', 'litre'), (2321, 'millilitre', 'gallon'), (2322, 'millilitre', 'cup'), (2323, 'millilitre', 'decilitre'), (2325, 'millilitre', 'cup'), (2326, 'millilitre', 'pint'), (2327, 'millilitre', 'gallon'), (2328, 'millilitre', 'litre'), (2329, 'gallon', 'millilitre'), (2330, 'millilitre', 'pint'), (2331, 'cup', 'gallon'), (2332, 'ounce', 'pint'), (2333, 'millilitre', 'decilitre'), (2334, 'millilitre', 'cup'), (2335, 'millilitre', 'cup'), (2336, 'millilitre', 'cup'), (2337, 'millilitre', 'decilitre'), (2338, 'gallon', 'pint'), (2340, 'litre', 'gallon'), (2341, 'millilitre', 'pint'), (2342, 'millilitre', 'cup'), (2343, 'litre', 'millilitre'), (2344, 'millilitre', 'gallon'), (2345, 'litre', 'pint'), (2346, 'millilitre', 'litre'), (2348, 'millilitre', 'gallon'), (2349, 'litre', 'millilitre'), (2350, 'litre', 'decilitre'), (2351, 'ounce', 'pint'), (2352, 'millilitre', 'pint'), (2353, 'millilitre', 'quart'), (2354, 'millilitre', 'gallon'), (2356, 'litre', 'gallon'), (2357, 'centilitre', 'millilitre'), (2358, 'millilitre', 'quart'), (2359, 'millilitre', 'pint'), (2361, 'gallon', 'quart'), (2362, 'millilitre', 'gallon'), (2363, 'millilitre', 'cup'), (2364, 'litre', 'gallon'), (2367, 'millilitre', 'litre'), (2368, 'quart', 'cup'), (2369, 'millilitre', 'centilitre'), (2370, 'litre', 'millilitre'), (2372, 'quart', 'litre'), (2373, 'millilitre', 'decilitre'), (2374, 'millilitre', 'litre'), (2375, 'litre', 'gallon'), (2376, 'millilitre', 'quart'), (2377, 'millilitre', 'litre'), (2378, 'millilitre', 'gallon'), (2380, 'millilitre', 'gallon'), (2381, 'litre', 'millilitre'), (2382, 'millilitre', 'quart'), (2383, 'gallon', 'litre'), (2385, 'litre', 'quart'), (2386, 'millilitre', 'pint'), (2387, 'litre', 'millilitre'), (2388, 'millilitre', 'quart'), (2390, 'millilitre', 'quart'), (2392, 'millilitre', 'decilitre'), (2393, 'cup', 'millilitre'), (2394, 'millilitre', 'pint'), (2395, 'millilitre', 'litre'), (2397, 'millilitre', 'quart'), (2398, 'millilitre', 'cup'), (2399, 'cup', 'pint'), (2401, 'millilitre', 'centilitre'), (2402, 'gallon', 'litre'), (2403, 'millilitre', 'quart'), (2404, 'millilitre', 'quart'), (2405, 'litre', 'pint'), (2407, 'ounce', 'gallon'), (2409, 'millilitre', 'gallon'), (2410, 'millilitre', 'pint'), (2412, 'litre', 'quart'), (2413, 'millilitre', 'pint'), (2414, 'decilitre', 'gallon'), (2415, 'litre', 'millilitre'), (2416, 'millilitre', 'pint'), (2417, 'millilitre', 'cup'), (2418, 'millilitre', 'quart'), (2420, 'millilitre', 'quart'), (2421, 'millilitre', 'litre'), (2422, 'millilitre', 'decilitre'), (2424, 'millilitre', 'cup'), (2425, 'litre', 'centilitre'), (2426, 'millilitre', 'litre'), (2427, 'millilitre', 'quart'), (2428, 'millilitre', 'gallon'), (2429, 'millilitre', 'litre'), (2430, 'millilitre', 'litre'), (2431, 'millilitre', 'gallon'), (2432, 'millilitre', 'gallon'), (2433, 'millilitre', 'gallon'), (2434, 'millilitre', 'quart'), (2435, 'millilitre', 'litre'), (2436, 'pint', 'litre'), (2437, 'millilitre', 'quart'), (2438, 'litre', 'pint'), (2440, 'millilitre', 'quart'), (2442, 'millilitre', 'litre'), (2444, 'litre', 'cup'), (2445, 'millilitre', 'gallon'), (2446, 'litre', 'millilitre'), (2448, 'millilitre', 'gallon'), (2449, 'litre', 'quart'), (2450, 'litre', 'pint'), (2451, 'millilitre', 'quart'), (2454, 'millilitre', 'decilitre'), (2455, 'litre', 'gallon'), (2456, 'millilitre', 'gallon'), (2457, 'litre', 'gallon'), (2458, 'pint', 'litre'), (2459, 'millilitre', 'pint'), (2460, 'millilitre', 'gallon'), (2461, 'millilitre', 'gallon'), (2462, 'millilitre', 'gallon'), (2463, 'litre', 'gallon'), (2464, 'cup', 'millilitre'), (2465, 'litre', 'quart'), (2466, 'millilitre', 'gallon'), (2467, 'litre', 'millilitre'), (2468, 'ounce', 'gallon'), (2469, 'litre', 'pint'), (2470, 'decilitre', 'gallon'), (2471, 'litre', 'centilitre'), (2473, 'cup', 'gallon'), (2474, 'millilitre', 'quart'), (2476, 'millilitre', 'litre'), (2477, 'millilitre', 'pint'), (2478, 'cup', 'gallon'), (2479, 'millilitre', 'pint'), (2481, 'litre', 'gallon'), (2482, 'millilitre', 'quart'), (2483, 'millilitre', 'quart'), (2484, 'pint', 'quart'), (2485, 'litre', 'millilitre'), (2489, 'millilitre', 'decilitre'), (2490, 'ounce', 'millilitre'), (2492, 'millilitre', 'quart'), (2493, 'millilitre', 'cup'), (2494, 'millilitre', 'litre'), (2495, 'millilitre', 'litre'), (2497, 'millilitre', 'decilitre'), (2498, 'millilitre', 'quart'), (2500, 'cup', 'pint'), (2501, 'litre', 'gallon'), (2502, 'millilitre', 'litre'), (2503, 'millilitre', 'gallon'), (2504, 'millilitre', 'decilitre'), (2505, 'millilitre', 'litre'), (2506, 'millilitre', 'pint'), (2507, 'litre', 'millilitre'), (2508, 'millilitre', 'litre'), (2509, 'millilitre', 'gallon'), (2510, 'millilitre', 'gallon'), (2511, 'litre', 'gallon'), (2512, 'millilitre', 'quart'), (2513, 'millilitre', 'litre'), (2514, 'millilitre', 'cup'), (2515, 'gallon', 'cup'), (2516, 'ounce', 'pint'), (2517, 'millilitre', 'quart'), (2519, 'pint', 'litre'), (2520, 'millilitre', 'pint'), (2521, 'millilitre', 'cup'), (2522, 'millilitre', 'gallon'), (2524, 'millilitre', 'pint'), (2525, 'millilitre', 'quart'), (2526, 'millilitre', 'litre'), (2527, 'millilitre', 'gallon'), (2528, 'millilitre', 'gallon'), (2529, 'millilitre', 'litre'), (2533, 'millilitre', 'cup'), (2536, 'millilitre', 'decilitre'), (2539, 'litre', 'millilitre'), (2541, 'quart', 'millilitre'), (2542, 'litre', 'quart'), (2544, 'litre', 'millilitre'), (2545, 'millilitre', 'litre'), (2546, 'litre', 'millilitre'), (2547, 'millilitre', 'litre'), (2548, 'millilitre', 'gallon'), (2549, 'ounce', 'litre'), (2550, 'litre', 'decilitre'), (2551, 'millilitre', 'quart'), (2552, 'ounce', 'gallon'), (2553, 'millilitre', 'gallon'), (2554, 'millilitre', 'gallon'), (2555, 'litre', 'millilitre'), (2557, 'quart', 'pint'), (2559, 'millilitre', 'pint'), (2560, 'millilitre', 'gallon'), (2563, 'millilitre', 'quart'), (2564, 'millilitre', 'cup'), (2565, 'millilitre', 'quart'), (2566, 'litre', 'cup'), (2568, 'millilitre', 'litre'), (2570, 'millilitre', 'litre'), (2572, 'cup', 'pint'), (2573, 'quart', 'millilitre'), (2575, 'millilitre', 'litre'), (2576, 'litre', 'gallon'), (2577, 'millilitre', 'quart'), (2580, 'decilitre', 'litre'), (2582, 'millilitre', 'pint'), (2583, 'millilitre', 'litre'), (2584, 'ounce', 'quart'), (2585, 'millilitre', 'pint'), (2586, 'gallon', 'centilitre'), (2588, 'millilitre', 'decilitre'), (2589, 'litre', 'millilitre'), (2591, 'litre', 'millilitre'), (2592, 'millilitre', 'litre'), (2593, 'millilitre', 'gallon'), (2594, 'millilitre', 'quart'), (2596, 'cup', 'gallon'), (2597, 'decilitre', 'millilitre'), (2598, 'millilitre', 'cup'), (2599, 'millilitre', 'quart'), (2600, 'millilitre', 'pint'), (2601, 'millilitre', 'litre'), (2602, 'litre', 'pint'), (2603, 'litre', 'gallon'), (2605, 'millilitre', 'quart'), (2606, 'millilitre', 'cup'), (2607, 'millilitre', 'cup'), (2608, 'millilitre', 'litre'), (2609, 'millilitre', 'decilitre'), (2610, 'millilitre', 'quart'), (2612, 'millilitre', 'centilitre'), (2613, 'millilitre', 'gallon'), (2614, 'millilitre', 'cup'), (2615, 'millilitre', 'gallon'), (2616, 'millilitre', 'pint'), (2617, 'millilitre', 'centilitre'), (2618, 'quart', 'gallon'), (2619, 'millilitre', 'pint'), (2620, 'ounce', 'pint'), (2621, 'millilitre', 'litre'), (2622, 'millilitre', 'litre'), (2624, 'millilitre', 'cup'), (2625, 'litre', 'pint'), (2626, 'millilitre', 'litre')]\n"
     ]
    }
   ],
   "source": [
    "print(wrong_values)"
   ]
  },
  {
   "cell_type": "code",
   "execution_count": null,
   "metadata": {},
   "outputs": [],
   "source": []
  }
 ],
 "metadata": {
  "kernelspec": {
   "display_name": "tf",
   "language": "python",
   "name": "python3"
  },
  "language_info": {
   "codemirror_mode": {
    "name": "ipython",
    "version": 3
   },
   "file_extension": ".py",
   "mimetype": "text/x-python",
   "name": "python",
   "nbconvert_exporter": "python",
   "pygments_lexer": "ipython3",
   "version": "3.10.14"
  }
 },
 "nbformat": 4,
 "nbformat_minor": 2
}
