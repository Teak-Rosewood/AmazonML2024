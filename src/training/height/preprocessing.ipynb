{
 "cells": [
  {
   "cell_type": "code",
   "execution_count": null,
   "metadata": {},
   "outputs": [],
   "source": [
    "import pandas as pd\n",
    "import re\n",
    "\n",
    "# Load the CSV file\n",
    "data = pd.read_csv('../../../dataset/train.csv')\n",
    "\n",
    "# Filter to only include item_weight entity\n",
    "item_weight_data = data[data['entity_name'] == 'height']\n",
    "\n",
    "# Extract numeric value and unit from entity_value\n",
    "def split_value(value):\n",
    "    match = re.match(r'(\\d+(\\.\\d+)?)(\\s+)?(yard|inch|meter|millimeter|foot|centimeter)', value)\n",
    "    if match:\n",
    "        number = float(match.group(1))\n",
    "        unit = match.group(4)\n",
    "        return number, unit\n",
    "    return None, None\n",
    "\n",
    "item_weight_data[['numeric_value', 'unit']] = item_weight_data['entity_value'].apply(split_value).apply(pd.Series)\n",
    "\n",
    "# Drop rows with missing values\n",
    "item_weight_data.dropna(inplace=True)\n",
    "\n",
    "# Save processed data to a new CSV file\n",
    "item_weight_data.to_csv('height.csv', index=True)\n",
    "\n",
    "print(\"Data preprocessing complete. Processed data saved to 'processed_item_weight_data.csv'.\")"
   ]
  },
  {
   "cell_type": "code",
   "execution_count": 2,
   "metadata": {},
   "outputs": [],
   "source": [
    "from utils_height import download_images"
   ]
  },
  {
   "cell_type": "code",
   "execution_count": null,
   "metadata": {},
   "outputs": [],
   "source": [
    "download_images(item_weight_data['image_link'].tolist(),  item_weight_data.index.tolist(), \"dataset\")"
   ]
  },
  {
   "cell_type": "code",
   "execution_count": 1,
   "metadata": {},
   "outputs": [
    {
     "name": "stderr",
     "output_type": "stream",
     "text": [
      "/home/blank/miniconda3/envs/tf/lib/python3.10/site-packages/paddle/base/framework.py:688: UserWarning: You are using GPU version Paddle, but your CUDA device is not set properly. CPU device will be used by default.\n",
      "  warnings.warn(\n"
     ]
    }
   ],
   "source": [
    "import os\n",
    "import logging\n",
    "import pandas as pd\n",
    "from paddleocr import PaddleOCR\n",
    "\n",
    "logging.getLogger('ppocr').setLevel(logging.ERROR)\n",
    "\n",
    "image_folder = 'dataset/'  # Adjust this to the correct folder containing your images\n",
    "ocr = PaddleOCR(use_angle_cls=True, lang='en')  # Initialize PaddleOCR\n",
    "count = 0\n",
    "def extract_ocr_text(index):\n",
    "    image_path = os.path.join(\"dataset\", f\"{index}.jpg\")\n",
    "    if not os.path.exists(image_path):\n",
    "        return \"\"\n",
    "    \n",
    "    # count += 1\n",
    "    # if count % 100 == 0:\n",
    "    #     print(f\"Processed {count} images\")\n",
    "    result = ocr.ocr(image_path)\n",
    "    ocr_text = \"\"\n",
    "    \n",
    "    # Extract text from OCR results\n",
    "    for line in result:\n",
    "        for box, (text, confidence) in line:\n",
    "            ocr_text += text + \" \"\n",
    "    \n",
    "    return ocr_text.strip()"
   ]
  },
  {
   "cell_type": "code",
   "execution_count": null,
   "metadata": {},
   "outputs": [],
   "source": []
  },
  {
   "cell_type": "code",
   "execution_count": 2,
   "metadata": {},
   "outputs": [
    {
     "ename": "UnboundLocalError",
     "evalue": "local variable 'count' referenced before assignment",
     "output_type": "error",
     "traceback": [
      "\u001b[0;31m---------------------------------------------------------------------------\u001b[0m",
      "\u001b[0;31mUnboundLocalError\u001b[0m                         Traceback (most recent call last)",
      "Cell \u001b[0;32mIn[2], line 1\u001b[0m\n\u001b[0;32m----> 1\u001b[0m \u001b[43mextract_ocr_text\u001b[49m\u001b[43m(\u001b[49m\u001b[38;5;241;43m7195\u001b[39;49m\u001b[43m)\u001b[49m\n",
      "Cell \u001b[0;32mIn[1], line 16\u001b[0m, in \u001b[0;36mextract_ocr_text\u001b[0;34m(index)\u001b[0m\n\u001b[1;32m     13\u001b[0m \u001b[38;5;28;01mif\u001b[39;00m \u001b[38;5;129;01mnot\u001b[39;00m os\u001b[38;5;241m.\u001b[39mpath\u001b[38;5;241m.\u001b[39mexists(image_path):\n\u001b[1;32m     14\u001b[0m     \u001b[38;5;28;01mreturn\u001b[39;00m \u001b[38;5;124m\"\u001b[39m\u001b[38;5;124m\"\u001b[39m\n\u001b[0;32m---> 16\u001b[0m count \u001b[38;5;241m+\u001b[39m\u001b[38;5;241m=\u001b[39m \u001b[38;5;241m1\u001b[39m\n\u001b[1;32m     17\u001b[0m \u001b[38;5;28;01mif\u001b[39;00m count \u001b[38;5;241m%\u001b[39m \u001b[38;5;241m100\u001b[39m \u001b[38;5;241m==\u001b[39m \u001b[38;5;241m0\u001b[39m:\n\u001b[1;32m     18\u001b[0m     \u001b[38;5;28mprint\u001b[39m(\u001b[38;5;124mf\u001b[39m\u001b[38;5;124m\"\u001b[39m\u001b[38;5;124mProcessed \u001b[39m\u001b[38;5;132;01m{\u001b[39;00mcount\u001b[38;5;132;01m}\u001b[39;00m\u001b[38;5;124m images\u001b[39m\u001b[38;5;124m\"\u001b[39m)\n",
      "\u001b[0;31mUnboundLocalError\u001b[0m: local variable 'count' referenced before assignment"
     ]
    }
   ],
   "source": [
    "extract_ocr_text(7195)"
   ]
  },
  {
   "cell_type": "code",
   "execution_count": null,
   "metadata": {},
   "outputs": [],
   "source": [
    "for index in indices:\n",
    "    print(index)\n",
    "    break"
   ]
  },
  {
   "cell_type": "code",
   "execution_count": null,
   "metadata": {},
   "outputs": [],
   "source": []
  }
 ],
 "metadata": {
  "kernelspec": {
   "display_name": "tf",
   "language": "python",
   "name": "python3"
  },
  "language_info": {
   "codemirror_mode": {
    "name": "ipython",
    "version": 3
   },
   "file_extension": ".py",
   "mimetype": "text/x-python",
   "name": "python",
   "nbconvert_exporter": "python",
   "pygments_lexer": "ipython3",
   "version": "3.10.14"
  }
 },
 "nbformat": 4,
 "nbformat_minor": 2
}
