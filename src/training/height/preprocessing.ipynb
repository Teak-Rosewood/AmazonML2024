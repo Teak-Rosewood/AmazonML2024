{
 "cells": [
  {
   "cell_type": "code",
   "execution_count": null,
   "metadata": {},
   "outputs": [],
   "source": [
    "import pandas as pd\n",
    "import re\n",
    "\n",
    "# Load the CSV file\n",
    "data = pd.read_csv('../../../dataset/train.csv')\n",
    "\n",
    "# Filter to only include item_weight entity\n",
    "item_weight_data = data[data['entity_name'] == 'height']\n",
    "\n",
    "# Extract numeric value and unit from entity_value\n",
    "def split_value(value):\n",
    "    match = re.match(r'(\\d+(\\.\\d+)?)(\\s+)?(yard|inch|meter|millimeter|foot|centimeter)', value)\n",
    "    if match:\n",
    "        number = float(match.group(1))\n",
    "        unit = match.group(4)\n",
    "        return number, unit\n",
    "    return None, None\n",
    "\n",
    "item_weight_data[['numeric_value', 'unit']] = item_weight_data['entity_value'].apply(split_value).apply(pd.Series)\n",
    "\n",
    "# Drop rows with missing values\n",
    "item_weight_data.dropna(inplace=True)\n",
    "\n",
    "# Save processed data to a new CSV file\n",
    "item_weight_data.to_csv('height.csv', index=True)\n",
    "\n",
    "print(\"Data preprocessing complete. Processed data saved to 'processed_item_weight_data.csv'.\")"
   ]
  },
  {
   "cell_type": "code",
   "execution_count": 2,
   "metadata": {},
   "outputs": [],
   "source": [
    "from utils_height import download_images"
   ]
  },
  {
   "cell_type": "code",
   "execution_count": null,
   "metadata": {},
   "outputs": [],
   "source": [
    "download_images(item_weight_data['image_link'].tolist(),  item_weight_data.index.tolist(), \"dataset\")"
   ]
  },
  {
   "cell_type": "code",
   "execution_count": 14,
   "metadata": {},
   "outputs": [],
   "source": [
    "import os\n",
    "import logging\n",
    "import pandas as pd\n",
    "from paddleocr import PaddleOCR\n",
    "from tqdm import tqdm\n",
    "\n",
    "logging.getLogger('ppocr').setLevel(logging.ERROR)\n",
    "\n",
    "image_folder = 'dataset/'  # Adjust this to the correct folder containing your images\n",
    "ocr = PaddleOCR(use_angle_cls=True, lang='en')  # Initialize PaddleOCR\n",
    "def extract_ocr_text(index):\n",
    "    image_path = os.path.join(\"datasets\", f\"{index}.jpg\")\n",
    "    if not os.path.exists(image_path):\n",
    "        return \"\"\n",
    "    \n",
    "    result = ocr.ocr(image_path)\n",
    "    ocr_text = \"\"\n",
    "    \n",
    "    # Extract text from OCR results\n",
    "    for line in result:\n",
    "        for box, (text, confidence) in line:\n",
    "            ocr_text += text + \" \"\n",
    "    \n",
    "    return index, ocr_text.strip()"
   ]
  },
  {
   "cell_type": "code",
   "execution_count": 15,
   "metadata": {},
   "outputs": [
    {
     "ename": "TypeError",
     "evalue": "'module' object is not callable",
     "output_type": "error",
     "traceback": [
      "\u001b[0;31m---------------------------------------------------------------------------\u001b[0m",
      "\u001b[0;31mTypeError\u001b[0m                                 Traceback (most recent call last)",
      "Cell \u001b[0;32mIn[15], line 4\u001b[0m\n\u001b[1;32m      2\u001b[0m data \u001b[38;5;241m=\u001b[39m pd\u001b[38;5;241m.\u001b[39mread_csv(\u001b[38;5;124m\"\u001b[39m\u001b[38;5;124mheight.csv\u001b[39m\u001b[38;5;124m\"\u001b[39m)\n\u001b[1;32m      3\u001b[0m indices \u001b[38;5;241m=\u001b[39m data[\u001b[38;5;124m'\u001b[39m\u001b[38;5;124mid\u001b[39m\u001b[38;5;124m'\u001b[39m]\u001b[38;5;241m.\u001b[39mto_list()\n\u001b[0;32m----> 4\u001b[0m ocr_results \u001b[38;5;241m=\u001b[39m [extract_ocr_text(index) \u001b[38;5;28;01mfor\u001b[39;00m index \u001b[38;5;129;01min\u001b[39;00m \u001b[43mtqdm\u001b[49m\u001b[43m(\u001b[49m\u001b[43mindices\u001b[49m\u001b[43m,\u001b[49m\u001b[43m \u001b[49m\u001b[43mdesc\u001b[49m\u001b[38;5;241;43m=\u001b[39;49m\u001b[38;5;124;43m\"\u001b[39;49m\u001b[38;5;124;43mExtracting OCR\u001b[39;49m\u001b[38;5;124;43m\"\u001b[39;49m\u001b[43m)\u001b[49m]\n\u001b[1;32m      6\u001b[0m \u001b[38;5;66;03m# Add the OCR results to the DataFrame\u001b[39;00m\n\u001b[1;32m      7\u001b[0m ocr_text_dict \u001b[38;5;241m=\u001b[39m \u001b[38;5;28mdict\u001b[39m(ocr_results)\n",
      "\u001b[0;31mTypeError\u001b[0m: 'module' object is not callable"
     ]
    }
   ],
   "source": [
    "# Assuming `data` is your DataFrame\n",
    "data = pd.read_csv(\"height.csv\")\n",
    "indices = data['id'].to_list()\n",
    "ocr_results = [extract_ocr_text(index) for index in tqdm(indices, desc=\"Extracting OCR\")]\n",
    "\n",
    "# Add the OCR results to the DataFrame\n",
    "ocr_text_dict = dict(ocr_results)\n",
    "data['ocr_text'] = data['id'].map(ocr_text_dict)\n",
    "\n",
    "# Save the updated DataFrame with the OCR text to a new CSV\n",
    "updated_csv_file = 'height_with_ocr.csv'\n",
    "data.to_csv(updated_csv_file, index=True)\n",
    "\n",
    "print(f\"OCR data has been added to the CSV. Updated file saved as '{updated_csv_file}'.\")"
   ]
  },
  {
   "cell_type": "code",
   "execution_count": null,
   "metadata": {},
   "outputs": [],
   "source": []
  }
 ],
 "metadata": {
  "kernelspec": {
   "display_name": "tf",
   "language": "python",
   "name": "python3"
  },
  "language_info": {
   "codemirror_mode": {
    "name": "ipython",
    "version": 3
   },
   "file_extension": ".py",
   "mimetype": "text/x-python",
   "name": "python",
   "nbconvert_exporter": "python",
   "pygments_lexer": "ipython3",
   "version": "3.10.14"
  }
 },
 "nbformat": 4,
 "nbformat_minor": 2
}
