{
 "cells": [
  {
   "cell_type": "code",
   "execution_count": 1,
   "metadata": {},
   "outputs": [
    {
     "name": "stderr",
     "output_type": "stream",
     "text": [
      "2024-09-14 17:59:59.709381: I tensorflow/core/util/port.cc:113] oneDNN custom operations are on. You may see slightly different numerical results due to floating-point round-off errors from different computation orders. To turn them off, set the environment variable `TF_ENABLE_ONEDNN_OPTS=0`.\n",
      "2024-09-14 17:59:59.740123: E external/local_xla/xla/stream_executor/cuda/cuda_dnn.cc:9261] Unable to register cuDNN factory: Attempting to register factory for plugin cuDNN when one has already been registered\n",
      "2024-09-14 17:59:59.740154: E external/local_xla/xla/stream_executor/cuda/cuda_fft.cc:607] Unable to register cuFFT factory: Attempting to register factory for plugin cuFFT when one has already been registered\n",
      "2024-09-14 17:59:59.740937: E external/local_xla/xla/stream_executor/cuda/cuda_blas.cc:1515] Unable to register cuBLAS factory: Attempting to register factory for plugin cuBLAS when one has already been registered\n",
      "2024-09-14 17:59:59.745805: I tensorflow/core/platform/cpu_feature_guard.cc:182] This TensorFlow binary is optimized to use available CPU instructions in performance-critical operations.\n",
      "To enable the following instructions: AVX2 AVX_VNNI FMA, in other operations, rebuild TensorFlow with the appropriate compiler flags.\n",
      "2024-09-14 18:00:00.461363: W tensorflow/compiler/tf2tensorrt/utils/py_utils.cc:38] TF-TRT Warning: Could not find TensorRT\n"
     ]
    }
   ],
   "source": [
    "import pandas as pd\n",
    "import numpy as np\n",
    "import chromadb \n",
    "import tensorflow as tf\n",
    "import re"
   ]
  },
  {
   "cell_type": "code",
   "execution_count": 2,
   "metadata": {},
   "outputs": [
    {
     "name": "stderr",
     "output_type": "stream",
     "text": [
      "2024-09-14 18:00:01.662291: I external/local_xla/xla/stream_executor/cuda/cuda_executor.cc:901] successful NUMA node read from SysFS had negative value (-1), but there must be at least one NUMA node, so returning NUMA node zero. See more at https://github.com/torvalds/linux/blob/v6.0/Documentation/ABI/testing/sysfs-bus-pci#L344-L355\n",
      "2024-09-14 18:00:01.719922: I external/local_xla/xla/stream_executor/cuda/cuda_executor.cc:901] successful NUMA node read from SysFS had negative value (-1), but there must be at least one NUMA node, so returning NUMA node zero. See more at https://github.com/torvalds/linux/blob/v6.0/Documentation/ABI/testing/sysfs-bus-pci#L344-L355\n",
      "2024-09-14 18:00:01.720064: I external/local_xla/xla/stream_executor/cuda/cuda_executor.cc:901] successful NUMA node read from SysFS had negative value (-1), but there must be at least one NUMA node, so returning NUMA node zero. See more at https://github.com/torvalds/linux/blob/v6.0/Documentation/ABI/testing/sysfs-bus-pci#L344-L355\n",
      "2024-09-14 18:00:01.721988: I external/local_xla/xla/stream_executor/cuda/cuda_executor.cc:901] successful NUMA node read from SysFS had negative value (-1), but there must be at least one NUMA node, so returning NUMA node zero. See more at https://github.com/torvalds/linux/blob/v6.0/Documentation/ABI/testing/sysfs-bus-pci#L344-L355\n",
      "2024-09-14 18:00:01.722103: I external/local_xla/xla/stream_executor/cuda/cuda_executor.cc:901] successful NUMA node read from SysFS had negative value (-1), but there must be at least one NUMA node, so returning NUMA node zero. See more at https://github.com/torvalds/linux/blob/v6.0/Documentation/ABI/testing/sysfs-bus-pci#L344-L355\n",
      "2024-09-14 18:00:01.722176: I external/local_xla/xla/stream_executor/cuda/cuda_executor.cc:901] successful NUMA node read from SysFS had negative value (-1), but there must be at least one NUMA node, so returning NUMA node zero. See more at https://github.com/torvalds/linux/blob/v6.0/Documentation/ABI/testing/sysfs-bus-pci#L344-L355\n",
      "2024-09-14 18:00:01.808451: I external/local_xla/xla/stream_executor/cuda/cuda_executor.cc:901] successful NUMA node read from SysFS had negative value (-1), but there must be at least one NUMA node, so returning NUMA node zero. See more at https://github.com/torvalds/linux/blob/v6.0/Documentation/ABI/testing/sysfs-bus-pci#L344-L355\n",
      "2024-09-14 18:00:01.808592: I external/local_xla/xla/stream_executor/cuda/cuda_executor.cc:901] successful NUMA node read from SysFS had negative value (-1), but there must be at least one NUMA node, so returning NUMA node zero. See more at https://github.com/torvalds/linux/blob/v6.0/Documentation/ABI/testing/sysfs-bus-pci#L344-L355\n",
      "2024-09-14 18:00:01.808678: I external/local_xla/xla/stream_executor/cuda/cuda_executor.cc:901] successful NUMA node read from SysFS had negative value (-1), but there must be at least one NUMA node, so returning NUMA node zero. See more at https://github.com/torvalds/linux/blob/v6.0/Documentation/ABI/testing/sysfs-bus-pci#L344-L355\n",
      "2024-09-14 18:00:01.808753: I tensorflow/core/common_runtime/gpu/gpu_device.cc:1929] Created device /job:localhost/replica:0/task:0/device:GPU:0 with 1030 MB memory:  -> device: 0, name: NVIDIA GeForce RTX 4070 Laptop GPU, pci bus id: 0000:01:00.0, compute capability: 8.9\n"
     ]
    }
   ],
   "source": [
    "client = chromadb.Client()\n",
    "collection = client.get_or_create_collection(\"height\")\n",
    "\n",
    "data = pd.read_csv(\"data/height_with_ocr.csv\")\n",
    "units = data['unit']\n",
    "string_lookup = tf.keras.layers.StringLookup()\n",
    "string_lookup.adapt(units)"
   ]
  },
  {
   "cell_type": "code",
   "execution_count": 3,
   "metadata": {},
   "outputs": [
    {
     "name": "stdout",
     "output_type": "stream",
     "text": [
      "[UNK]\n",
      "centimetre\n",
      "inch\n",
      "millimetre\n",
      "metre\n",
      "foot\n",
      "added data into dataset\n"
     ]
    }
   ],
   "source": [
    "def remove_numbers(text):\n",
    "    return re.sub(r'\\d+', '', text)\n",
    "                  \n",
    "values = string_lookup.get_vocabulary()\n",
    "index = 0\n",
    "for val in values:\n",
    "    print(val)\n",
    "    if val != \"[UNK]\":\n",
    "        matching_rows = data[data['unit'] == val]\n",
    "        \n",
    "        # Select up to 10 values from the filtered dataset\n",
    "        n = 200\n",
    "        if len(matching_rows) <= 200:\n",
    "            n = len(matching_rows)\n",
    "        selected_rows = matching_rows.sample(n=n, random_state=42) if len(matching_rows) >= 100 else matching_rows\n",
    "        \n",
    "        for _, row in selected_rows.iterrows():\n",
    "            ocr_text = row['ocr_text']\n",
    "            ocr_text = remove_numbers(ocr_text)\n",
    "            # Generate a random UUID for each document\n",
    "            index += 1 \n",
    "            \n",
    "            # Add to the vector database\n",
    "            collection.add(\n",
    "                documents = [ocr_text], \n",
    "                metadatas=[{\"units\": val}],\n",
    "                ids=[str(index)]\n",
    "            )\n",
    "print(\"added data into dataset\")"
   ]
  },
  {
   "cell_type": "code",
   "execution_count": 4,
   "metadata": {},
   "outputs": [],
   "source": [
    "ocr_text = data['ocr_text']\n",
    "labels = data['unit']"
   ]
  },
  {
   "cell_type": "code",
   "execution_count": 5,
   "metadata": {},
   "outputs": [],
   "source": [
    "from collections import Counter\n",
    "\n",
    "def query_and_find_most_frequent(query_text):\n",
    "    # query_text = remove_numbers(query_text)\n",
    "    results = collection.query(query_texts=[query_text],\n",
    "                               where = {\"entity_\"}\n",
    "                               n_results=5)\n",
    "    \n",
    "    string_values = [result['units'] for result in results['metadatas'][0]]\n",
    "    \n",
    "    string_counts = Counter(string_values)\n",
    "    \n",
    "    most_frequent_string = string_counts.most_common(1)[0][0]\n",
    "    \n",
    "    return most_frequent_string"
   ]
  },
  {
   "cell_type": "code",
   "execution_count": 6,
   "metadata": {},
   "outputs": [
    {
     "name": "stdout",
     "output_type": "stream",
     "text": [
      "At 1000 Accuracy: 0.573\n",
      "At 2000 Accuracy: 0.5915\n",
      "At 3000 Accuracy: 0.592\n",
      "At 4000 Accuracy: 0.58775\n"
     ]
    }
   ],
   "source": [
    "import concurrent.futures\n",
    "\n",
    "# Function to process each item\n",
    "def process_item(idx, text, label):\n",
    "    res = query_and_find_most_frequent(text)\n",
    "    return idx, res == label\n",
    "\n",
    "# Initialize variables\n",
    "total_count = len(labels)\n",
    "count = 0\n",
    "\n",
    "# Use ThreadPoolExecutor to run the loop in parallel\n",
    "with concurrent.futures.ThreadPoolExecutor() as executor:\n",
    "    # Submit tasks to the executor\n",
    "    futures = [executor.submit(process_item, idx, text, labels[idx]) for idx, text in enumerate(ocr_text)]\n",
    "    \n",
    "    # Process the results as they complete\n",
    "    for future in concurrent.futures.as_completed(futures):\n",
    "        idx, is_correct = future.result()\n",
    "        if idx % 1000 == 0 and idx != 0:\n",
    "            print(\"At\", idx, \"Accuracy:\", str(count / idx))\n",
    "        if is_correct:\n",
    "            count += 1\n",
    "\n",
    "# Print the final accuracy\n",
    "print(count / total_count)\n",
    "    "
   ]
  },
  {
   "cell_type": "code",
   "execution_count": null,
   "metadata": {},
   "outputs": [],
   "source": [
    "for idx, val in enumerate(ocr_text):\n",
    "    continue\n",
    "print(\"done\")"
   ]
  },
  {
   "cell_type": "code",
   "execution_count": null,
   "metadata": {},
   "outputs": [],
   "source": [
    "text = \"\"\"\n",
    "134cm 182cm 211cm 10Ocm 216cm 108cm\n",
    "\"\"\"\n",
    "res = query_and_find_most_frequent(text)\n",
    "print(res)"
   ]
  },
  {
   "cell_type": "code",
   "execution_count": null,
   "metadata": {},
   "outputs": [],
   "source": [
    "for result in res['metadatas'][0]:\n",
    "    print(result['units'])"
   ]
  },
  {
   "cell_type": "code",
   "execution_count": null,
   "metadata": {},
   "outputs": [],
   "source": []
  }
 ],
 "metadata": {
  "kernelspec": {
   "display_name": "tf",
   "language": "python",
   "name": "python3"
  },
  "language_info": {
   "codemirror_mode": {
    "name": "ipython",
    "version": 3
   },
   "file_extension": ".py",
   "mimetype": "text/x-python",
   "name": "python",
   "nbconvert_exporter": "python",
   "pygments_lexer": "ipython3",
   "version": "3.10.14"
  }
 },
 "nbformat": 4,
 "nbformat_minor": 2
}
